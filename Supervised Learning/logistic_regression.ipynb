{
 "cells": [
  {
   "cell_type": "code",
   "execution_count": 26,
   "id": "b5dda23a",
   "metadata": {},
   "outputs": [],
   "source": [
    "import numpy as np, pandas as pd\n",
    "from sklearn.model_selection import train_test_split\n",
    "from sklearn.pipeline import make_pipeline\n",
    "from sklearn.preprocessing import StandardScaler\n",
    "from sklearn.linear_model import LogisticRegression\n",
    "from sklearn.metrics import accuracy_score, roc_auc_score"
   ]
  },
  {
   "cell_type": "code",
   "execution_count": 27,
   "id": "59a18089",
   "metadata": {},
   "outputs": [],
   "source": [
    "df = pd.DataFrame({\n",
    "    \"area\": [80,100,120,140,160,180,200,220,240,260,90,150],\n",
    "    \"distance_km\": [18,16,14,12,10,12,9,7,6,5,20,8]\n",
    "})"
   ]
  },
  {
   "cell_type": "code",
   "execution_count": 28,
   "id": "936a0de3",
   "metadata": {},
   "outputs": [],
   "source": [
    "score = 0.03*df[\"area\"] - 0.20*df[\"distance_km\"] + 0.05*np.random.randn(len(df))\n",
    "df[\"expensive\"] = (score >= score.median()).astype(int)"
   ]
  },
  {
   "cell_type": "code",
   "execution_count": 29,
   "id": "15d683f9",
   "metadata": {},
   "outputs": [],
   "source": [
    "X = df[[\"area\",\"distance_km\"]]; \n",
    "y = df[\"expensive\"]"
   ]
  },
  {
   "cell_type": "code",
   "execution_count": 30,
   "id": "be518bc2",
   "metadata": {},
   "outputs": [],
   "source": [
    "X_train, X_test, y_train, y_test = train_test_split(X, y, test_size=0.2, random_state=42)"
   ]
  },
  {
   "cell_type": "code",
   "execution_count": 31,
   "id": "7f795b97",
   "metadata": {},
   "outputs": [],
   "source": [
    "# Scaler để chuẩn hóa các cột tránh thiên vị, \n",
    "pipe = make_pipeline(StandardScaler(), LogisticRegression(max_iter=100)).fit(X_train, y_train)"
   ]
  },
  {
   "cell_type": "code",
   "execution_count": 32,
   "id": "6cb2e715",
   "metadata": {},
   "outputs": [],
   "source": [
    "y_pred  = pipe.predict(X_test)\n",
    "y_prob1 = pipe.predict_proba(X_test)[:, 1]  # Col 0=>y=0, 1=>y=1 (y)"
   ]
  },
  {
   "cell_type": "code",
   "execution_count": 33,
   "id": "80a49f2f",
   "metadata": {},
   "outputs": [
    {
     "name": "stdout",
     "output_type": "stream",
     "text": [
      "Accuracy : 1.0\n",
      "ROC-AUC  : 1.0\n"
     ]
    }
   ],
   "source": [
    "print(\"Accuracy :\", round(accuracy_score(y_test, y_pred), 3))\n",
    "print(\"ROC-AUC  :\", round(roc_auc_score(y_test, y_prob1), 3))"
   ]
  },
  {
   "cell_type": "code",
   "execution_count": 34,
   "id": "14f27654",
   "metadata": {},
   "outputs": [
    {
     "name": "stdout",
     "output_type": "stream",
     "text": [
      "Probabilities: [0.784, 0.074]  Labels: [1, 0]\n"
     ]
    }
   ],
   "source": [
    "x_new = pd.DataFrame({\"area\":[185,120], \"distance_km\":[8,18]})\n",
    "print(\"Probabilities:\", pipe.predict_proba(x_new)[:,1].round(3).tolist(), \" Labels:\", pipe.predict(x_new).tolist())\n"
   ]
  },
  {
   "cell_type": "code",
   "execution_count": 36,
   "id": "f8f041ec",
   "metadata": {},
   "outputs": [
    {
     "name": "stdout",
     "output_type": "stream",
     "text": [
      "P(expensive=1): 0.396  -> label: 1\n"
     ]
    }
   ],
   "source": [
    "p_one = pipe.predict_proba(pd.DataFrame({\"area\":[50], \"distance_km\":[3]}))[:,1].item()\n",
    "label_one = pipe.predict(pd.DataFrame({\"area\":[185], \"distance_km\":[8]})).item()\n",
    "print(\"P(expensive=1):\", round(p_one, 3), \" -> label:\", label_one)"
   ]
  }
 ],
 "metadata": {
  "kernelspec": {
   "display_name": "base",
   "language": "python",
   "name": "python3"
  },
  "language_info": {
   "codemirror_mode": {
    "name": "ipython",
    "version": 3
   },
   "file_extension": ".py",
   "mimetype": "text/x-python",
   "name": "python",
   "nbconvert_exporter": "python",
   "pygments_lexer": "ipython3",
   "version": "3.12.7"
  }
 },
 "nbformat": 4,
 "nbformat_minor": 5
}
