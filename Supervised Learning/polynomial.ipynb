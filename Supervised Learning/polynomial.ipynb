{
 "cells": [
  {
   "cell_type": "code",
   "execution_count": 16,
   "id": "d6b300f2",
   "metadata": {},
   "outputs": [],
   "source": [
    "from sklearn.model_selection import train_test_split\n",
    "from sklearn.preprocessing import PolynomialFeatures\n",
    "from sklearn.linear_model import LinearRegression\n",
    "from sklearn.pipeline import make_pipeline\n",
    "from sklearn.metrics import mean_squared_error, r2_score\n",
    "import numpy as np\n",
    "import pandas as pd, random\n"
   ]
  },
  {
   "cell_type": "code",
   "execution_count": 17,
   "id": "4473ecc3",
   "metadata": {},
   "outputs": [
    {
     "name": "stdout",
     "output_type": "stream",
     "text": [
      "[10051, 13784, 18173, 23264, 28805, 35001, 41798, 49187, 57264, 65783, 75056, 84864, 95239, 106181, 117845, 130024, 142774, 156173, 170181, 184797, 199999, 215834, 232247, 249173, 266841]\n"
     ]
    }
   ],
   "source": [
    "areas = [50,60,70,80,90,100,110,120,130,140,150,160,170,180,190,200,210,220,230,240,250,260,270,280,290]\n",
    "random.seed(42)\n",
    "prices = [3*a*a + 50*a + 20 + random.randint(-50,50) for a in areas]\n",
    "\n",
    "print(prices)\n"
   ]
  },
  {
   "cell_type": "code",
   "execution_count": 18,
   "id": "665ce0a5",
   "metadata": {},
   "outputs": [],
   "source": [
    "df = pd.DataFrame({\"area\": areas, \"price\": prices})\n",
    "X_train, X_test, y_train, y_test = train_test_split(df[[\"area\"]], df[\"price\"], test_size=0.2, random_state=42)"
   ]
  },
  {
   "cell_type": "code",
   "execution_count": null,
   "id": "3d4b0be4",
   "metadata": {},
   "outputs": [],
   "source": [
    "pipe = make_pipeline(PolynomialFeatures(degree=2, include_bias=False), LinearRegression()) #degree (hyperparameter)\n",
    "pipe.fit(X_train, y_train)\n",
    "\n",
    "y_pred = pipe.predict(X_test)"
   ]
  },
  {
   "cell_type": "code",
   "execution_count": 20,
   "id": "f57d82d5",
   "metadata": {},
   "outputs": [],
   "source": [
    "\n",
    "mse = mean_squared_error(y_test, y_pred) \n",
    "rmse = np.sqrt(mse) \n",
    "r2 = r2_score(y_test, y_pred) #r2 = accuracy model (*) => Linear best"
   ]
  },
  {
   "cell_type": "code",
   "execution_count": 21,
   "id": "fbbef0b7",
   "metadata": {},
   "outputs": [
    {
     "name": "stdout",
     "output_type": "stream",
     "text": [
      "RMSE: 51.08864990653534\n"
     ]
    }
   ],
   "source": [
    "print(f\"RMSE: {rmse}\")"
   ]
  },
  {
   "cell_type": "code",
   "execution_count": 22,
   "id": "67c45a33",
   "metadata": {},
   "outputs": [
    {
     "name": "stdout",
     "output_type": "stream",
     "text": [
      "Model Accuracy: 0.9999996143436369\n"
     ]
    }
   ],
   "source": [
    "print(f\"Model Accuracy: {r2}\")  # ~99%"
   ]
  },
  {
   "cell_type": "code",
   "execution_count": 23,
   "id": "1a9a8526",
   "metadata": {},
   "outputs": [
    {
     "name": "stdout",
     "output_type": "stream",
     "text": [
      "[10004.24009416]\n"
     ]
    }
   ],
   "source": [
    "def predict_price(area_m2):\n",
    "    X_new = pd.DataFrame({\"area\": [area_m2]}) # fit col[area] \n",
    "    return pipe.predict(X_new) # print array, had [0] or item()\n",
    "print(predict_price(50))\n"
   ]
  },
  {
   "cell_type": "code",
   "execution_count": null,
   "id": "48002f77",
   "metadata": {},
   "outputs": [
    {
     "name": "stdout",
     "output_type": "stream",
     "text": [
      "Accuracy: 1.0\n",
      "ROC-AUC : 1.0\n",
      "              precision    recall  f1-score   support\n",
      "\n",
      "           0      1.000     1.000     1.000         3\n",
      "           1      1.000     1.000     1.000         2\n",
      "\n",
      "    accuracy                          1.000         5\n",
      "   macro avg      1.000     1.000     1.000         5\n",
      "weighted avg      1.000     1.000     1.000         5\n",
      "\n",
      "P(expensive=1 | 185 m²): 0.05623369118734913\n"
     ]
    },
    {
     "name": "stderr",
     "output_type": "stream",
     "text": [
      "c:\\Users\\luong\\anaconda3\\Lib\\site-packages\\sklearn\\base.py:493: UserWarning: X does not have valid feature names, but LogisticRegression was fitted with feature names\n",
      "  warnings.warn(\n"
     ]
    }
   ],
   "source": []
  },
  {
   "cell_type": "code",
   "execution_count": null,
   "id": "a5154210",
   "metadata": {},
   "outputs": [],
   "source": []
  }
 ],
 "metadata": {
  "kernelspec": {
   "display_name": "base",
   "language": "python",
   "name": "python3"
  },
  "language_info": {
   "codemirror_mode": {
    "name": "ipython",
    "version": 3
   },
   "file_extension": ".py",
   "mimetype": "text/x-python",
   "name": "python",
   "nbconvert_exporter": "python",
   "pygments_lexer": "ipython3",
   "version": "3.12.7"
  }
 },
 "nbformat": 4,
 "nbformat_minor": 5
}
